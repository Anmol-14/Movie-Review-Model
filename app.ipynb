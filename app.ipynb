{
  "nbformat": 4,
  "nbformat_minor": 0,
  "metadata": {
    "colab": {
      "provenance": [],
      "mount_file_id": "193XKU6uq6dCbuGpViS_4A4MTFajhtFps",
      "authorship_tag": "ABX9TyNfkgSy8R6YheEhsOh6noSY",
      "include_colab_link": true
    },
    "kernelspec": {
      "name": "python3",
      "display_name": "Python 3"
    },
    "language_info": {
      "name": "python"
    }
  },
  "cells": [
    {
      "cell_type": "markdown",
      "metadata": {
        "id": "view-in-github",
        "colab_type": "text"
      },
      "source": [
        "<a href=\"https://colab.research.google.com/github/Anmol-14/Movie-Review-Model/blob/main/app.ipynb\" target=\"_parent\"><img src=\"https://colab.research.google.com/assets/colab-badge.svg\" alt=\"Open In Colab\"/></a>"
      ]
    },
    {
      "cell_type": "code",
      "source": [
        "from google.colab import drive\n",
        "drive.mount('/content/drive')\n",
        "!pip install streamlit"
      ],
      "metadata": {
        "colab": {
          "base_uri": "https://localhost:8080/"
        },
        "id": "NWgH60CEmFiM",
        "outputId": "0dcbaad2-bd52-4e9c-b313-3efd88b96264"
      },
      "execution_count": 8,
      "outputs": [
        {
          "output_type": "stream",
          "name": "stdout",
          "text": [
            "Drive already mounted at /content/drive; to attempt to forcibly remount, call drive.mount(\"/content/drive\", force_remount=True).\n"
          ]
        }
      ]
    },
    {
      "cell_type": "code",
      "source": [
        "%%writefile app.py\n",
        "\n",
        "import streamlit as st\n",
        "import pickle\n",
        "from sklearn.feature_extraction.text import TfidfVectorizer\n",
        "from sklearn.ensemble import RandomForestClassifier\n",
        "import nltk\n",
        "from nltk.corpus import stopwords\n",
        "import re\n",
        "\n",
        "# Download NLTK resources\n",
        "nltk.download('stopwords')\n",
        "nltk.download('wordnet')\n",
        "\n",
        "# Load the trained model\n",
        "model_path = '/content/drive/MyDrive/Colab Notebooks/sentiment_model.pkl'\n",
        "with open(model_path, 'rb') as model_file:\n",
        "    model = pickle.load(model_file)\n",
        "\n",
        "# Load the TF-IDF vectorizer\n",
        "vectorizer_path = '/content/drive/MyDrive/Colab Notebooks/tfidf_vectorizer.pkl'\n",
        "with open(vectorizer_path, 'rb') as vectorizer_file:\n",
        "    vectorizer = pickle.load(vectorizer_file)\n",
        "\n",
        "# Preprocess the text\n",
        "def preprocess_text(text):\n",
        "    text = re.sub(r'http\\S+', '', text)\n",
        "    text = re.sub(r'[^a-zA-Z]', ' ', text)\n",
        "    text = text.lower()\n",
        "    words = text.split()\n",
        "    words = [word for word in words if word not in set(stopwords.words('english'))]\n",
        "    return ' '.join(words)\n",
        "\n",
        "# Streamlit App\n",
        "def main():\n",
        "    st.title(\"Movies Review Analysis \")\n",
        "\n",
        "    # User input for movie review\n",
        "    review = st.text_area(\"Enter your movie review:\")\n",
        "\n",
        "    if st.button(\"Predict\"):\n",
        "        if review:\n",
        "            # Preprocess the input\n",
        "            preprocessed_review = preprocess_text(review)\n",
        "\n",
        "            # Vectorize the input\n",
        "            vectorized_review = vectorizer.transform([preprocessed_review])\n",
        "\n",
        "            # Make prediction\n",
        "            prediction = model.predict(vectorized_review)[0]\n",
        "\n",
        "            # Display the result\n",
        "            sentiment = 'Positive' if prediction == 'positive' else 'Negative'\n",
        "            st.success(f\"The review of the Movie is: {sentiment}\")\n",
        "        else:\n",
        "            st.warning(\"Please enter a movie review.\")\n",
        "\n",
        "if __name__ == \"__main__\":\n",
        "    main()\n"
      ],
      "metadata": {
        "colab": {
          "base_uri": "https://localhost:8080/"
        },
        "id": "aPiO6hhXmdAb",
        "outputId": "d56f4cd2-9cb3-4b26-ccab-28fc2f13c16a"
      },
      "execution_count": 12,
      "outputs": [
        {
          "output_type": "stream",
          "name": "stdout",
          "text": [
            "Overwriting app.py\n"
          ]
        }
      ]
    },
    {
      "cell_type": "code",
      "source": [
        "!streamlit run --server.port 8501 app.py & npx localtunnel --port 8501\n"
      ],
      "metadata": {
        "id": "HBRH0KKwqGbK",
        "colab": {
          "base_uri": "https://localhost:8080/"
        },
        "outputId": "cbafb72f-4290-4588-9129-2ac4a542282d"
      },
      "execution_count": 11,
      "outputs": [
        {
          "output_type": "stream",
          "name": "stdout",
          "text": [
            "[##................] / fetchMetadata: sill resolveWithNewModule ms@2.1.2 checki\u001b[0m\u001b[K\n",
            "Collecting usage statistics. To deactivate, set browser.gatherUsageStats to False.\n",
            "\u001b[0m\n",
            "\u001b[0m\n",
            "\u001b[34m\u001b[1m  You can now view your Streamlit app in your browser.\u001b[0m\n",
            "\u001b[0m\n",
            "\u001b[34m  Network URL: \u001b[0m\u001b[1mhttp://172.28.0.12:8501\u001b[0m\n",
            "\u001b[34m  External URL: \u001b[0m\u001b[1mhttp://34.73.195.96:8501\u001b[0m\n",
            "\u001b[0m\n",
            "\u001b[K\u001b[?25hnpx: installed 22 in 2.323s\n",
            "your url is: https://small-hands-show.loca.lt\n",
            "[nltk_data] Downloading package stopwords to /root/nltk_data...\n",
            "[nltk_data]   Package stopwords is already up-to-date!\n",
            "[nltk_data] Downloading package wordnet to /root/nltk_data...\n",
            "[nltk_data]   Package wordnet is already up-to-date!\n",
            "[nltk_data] Downloading package stopwords to /root/nltk_data...\n",
            "[nltk_data]   Package stopwords is already up-to-date!\n",
            "[nltk_data] Downloading package wordnet to /root/nltk_data...\n",
            "[nltk_data]   Package wordnet is already up-to-date!\n",
            "\u001b[34m  Stopping...\u001b[0m\n",
            "^C\n"
          ]
        }
      ]
    },
    {
      "cell_type": "code",
      "source": [],
      "metadata": {
        "id": "Zh7HGBopH_np"
      },
      "execution_count": 3,
      "outputs": []
    }
  ]
}